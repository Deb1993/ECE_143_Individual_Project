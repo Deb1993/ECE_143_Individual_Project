{
 "cells": [
  {
   "cell_type": "code",
   "execution_count": 57,
   "metadata": {},
   "outputs": [],
   "source": [
    "import random\n",
    "class tower(object):\n",
    "    lb1 = 0\n",
    "    lb2 = 0\n",
    "    lu1 = 0\n",
    "    lu2 = 0\n",
    "    rb1 = 0\n",
    "    rb2 = 0\n",
    "    ru1 = 0\n",
    "    ru2 = 0\n",
    "    length = 0\n",
    "    breadth = 0\n",
    "    def __init__(self,x1,x2,y1,y2):\n",
    "        self.lb1 = random.randint(x1,x2-1)\n",
    "        self.lb2 = random.randint(y1,y2-1)\n",
    "        if self.lb1 == x1 and self.lb2 == y1:\n",
    "            self.length = random.randint(1,x2-x1-1)\n",
    "            self.breadth = random.randint(1,y2-y1-1)\n",
    "        else:\n",
    "            self.length = random.randint(1,x2-self.lb1)\n",
    "            self.breadth = random.randint(1,y2-self.lb2)\n",
    "        self.lu1 = self.lb1\n",
    "        self.lu2 = self.lb2 + self.breadth\n",
    "        self.rb1 = self.lb1 + self.length\n",
    "        self.rb2 = self.lb2\n",
    "        self.ru1 = self.rb1\n",
    "        self.ru2 = self.lu2"
   ]
  },
  {
   "cell_type": "code",
   "execution_count": 58,
   "metadata": {},
   "outputs": [],
   "source": [
    "from pprint import pprint\n",
    "a = tower(0,10,10,20)"
   ]
  },
  {
   "cell_type": "code",
   "execution_count": 59,
   "metadata": {},
   "outputs": [
    {
     "name": "stdout",
     "output_type": "stream",
     "text": [
      "{'breadth': 2,\n",
      " 'lb1': 8,\n",
      " 'lb2': 15,\n",
      " 'length': 1,\n",
      " 'lu1': 8,\n",
      " 'lu2': 17,\n",
      " 'rb1': 9,\n",
      " 'rb2': 15,\n",
      " 'ru1': 9,\n",
      " 'ru2': 17}\n"
     ]
    }
   ],
   "source": [
    "pprint(vars(a))"
   ]
  },
  {
   "cell_type": "code",
   "execution_count": null,
   "metadata": {
    "collapsed": true
   },
   "outputs": [],
   "source": []
  }
 ],
 "metadata": {
  "kernelspec": {
   "display_name": "Python 2",
   "language": "python",
   "name": "python2"
  },
  "language_info": {
   "codemirror_mode": {
    "name": "ipython",
    "version": 2
   },
   "file_extension": ".py",
   "mimetype": "text/x-python",
   "name": "python",
   "nbconvert_exporter": "python",
   "pygments_lexer": "ipython2",
   "version": "2.7.14"
  }
 },
 "nbformat": 4,
 "nbformat_minor": 2
}
