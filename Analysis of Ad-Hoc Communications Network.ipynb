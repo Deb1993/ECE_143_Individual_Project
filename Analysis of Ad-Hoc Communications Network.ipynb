{
 "cells": [
  {
   "cell_type": "code",
   "execution_count": 91,
   "metadata": {},
   "outputs": [],
   "source": []
  },
  {
   "cell_type": "code",
   "execution_count": 94,
   "metadata": {},
   "outputs": [],
   "source": [
    "from pprint import pprint\n",
    "a = tower(0,10,0,20)"
   ]
  },
  {
   "cell_type": "code",
   "execution_count": 93,
   "metadata": {},
   "outputs": [
    {
     "name": "stdout",
     "output_type": "stream",
     "text": [
      "{'breadth': 7,\n",
      " 'lb1': 2,\n",
      " 'lb2': 8,\n",
      " 'length': 5,\n",
      " 'lu1': 2,\n",
      " 'lu2': 15,\n",
      " 'rb1': 7,\n",
      " 'rb2': 8,\n",
      " 'ru1': 7,\n",
      " 'ru2': 15}\n"
     ]
    }
   ],
   "source": [
    "pprint(vars(a))"
   ]
  },
  {
   "cell_type": "code",
   "execution_count": 95,
   "metadata": {
    "collapsed": true
   },
   "outputs": [],
   "source": [
    "a = [[0 for y in range(8)] for x in range(8)]"
   ]
  },
  {
   "cell_type": "code",
   "execution_count": 103,
   "metadata": {},
   "outputs": [
    {
     "data": {
      "text/plain": [
       "[[0, 1, 0, 0, 0, 0, 0, 0],\n",
       " [0, 0, 0, 0, 0, 0, 0, 0],\n",
       " [0, 0, 0, 0, 0, 0, 0, 0],\n",
       " [0, 0, 0, 0, 0, 0, 0, 0],\n",
       " [0, 0, 0, 0, 0, 0, 0, 0],\n",
       " [0, 0, 0, 0, 0, 0, 0, 0],\n",
       " [0, 0, 0, 0, 0, 0, 0, 0],\n",
       " [0, 0, 0, 0, 0, 0, 0, 0]]"
      ]
     },
     "execution_count": 103,
     "metadata": {},
     "output_type": "execute_result"
    }
   ],
   "source": [
    "a[0][1] = 1\n",
    "a"
   ]
  },
  {
   "cell_type": "code",
   "execution_count": 466,
   "metadata": {},
   "outputs": [],
   "source": [
    "import random\n",
    "from copy import copy,deepcopy\n",
    "class tower(object):\n",
    "    '''Class: Tower\n",
    "    Param: object of type tower\n",
    "    Param: Co-ordinates of the Rectangular bounded region\n",
    "    Description: Generates random co-ordinates for a sequence of rectangles'''\n",
    "    lb1 = 0\n",
    "    lb2 = 0\n",
    "    lu1 = 0\n",
    "    lu2 = 0\n",
    "    rb1 = 0\n",
    "    rb2 = 0\n",
    "    ru1 = 0\n",
    "    ru2 = 0\n",
    "    length = 0\n",
    "    breadth = 0\n",
    "    def __init__(self,x1,x2,y1,y2):\n",
    "        self.lb1 = random.randint(x1,x2)\n",
    "        self.lb2 = random.randint(y1,y2)\n",
    "        if self.lb1 == x1 and self.lb2 == y1:\n",
    "            self.length = random.randint(1,x2)\n",
    "            self.breadth = random.randint(1,y2)\n",
    "        else:\n",
    "            self.length = random.randint(1,x2-self.lb1 + 1)\n",
    "            self.breadth = random.randint(1,y2-self.lb2 + 1)\n",
    "        self.lu1 = self.lb1\n",
    "        self.lu2 = self.lb2 + self.breadth - 1\n",
    "        self.rb1 = self.lb1 + self.length - 1\n",
    "        self.rb2 = self.lb2\n",
    "        self.ru1 = self.rb1\n",
    "        self.ru2 = self.lu2\n",
    "def fill(lb1,lb2,lu1,lu2,rb1,rb2,ru1,ru2,bounded_box,n):\n",
    "    #print(id(bounded_box))\n",
    "    i = lb2\n",
    "    j = lb1\n",
    "    #lb1_n,lb2_n,rb1_n,rb2_n,lu1_n,lu2_n,ru1_n,ru2_n\n",
    "    #8 6 10 6 8 19 10 19\n",
    "    #print bounded_box\n",
    "    while i <= lu2:\n",
    "        j = lb1\n",
    "        while j <= rb1:\n",
    "            #print j\n",
    "            #print i\n",
    "            bounded_box[i][j] = bounded_box[i][j] + n\n",
    "            j = j + 1 \n",
    "        i = i + 1\n",
    "def max_rect(bounded_box,lb1,lb2,rb1,rb2,lu1,lu2,ru1,ru2,bounded_area,sum_bounded_area,num):\n",
    "    #print id(lb1)\n",
    "    #if(matrix.empty()) return 0;\n",
    "    #const int m = matrix.size();\n",
    "    m = len(bounded_box)\n",
    "    #print m\n",
    "    #const int n = matrix[0].size();\n",
    "    n = len(bounded_box[0])\n",
    "    #print n\n",
    "    #int left[n], right[n], height[n];\n",
    "    #fill_n(left,n,0); fill_n(right,n,n); fill_n(height,n,0);\n",
    "    left = [0 for i in range(n)]\n",
    "    right = [n for i in range(n)]\n",
    "    height = [0 for i in range(n)]\n",
    "    top = [0 for i in range(n)]\n",
    "    #print right,top\n",
    "    #int maxA = 0;\n",
    "    maxA = 0\n",
    "    #for(int i=0; i<m; i++) {\n",
    "    #    int cur_left=0, cur_right=n; \n",
    "    #    for(int j=0; j<n; j++) { // compute height (can do this from either side)\n",
    "    #        if(matrix[i][j]=='1') height[j]++; \n",
    "    #        else height[j]=0;\n",
    "    #    }\n",
    "    for i in range(m):\n",
    "        cur_left = 0\n",
    "        cur_right = n\n",
    "        cur_top = 0\n",
    "        for j in range(n):\n",
    "            if bounded_box[i][j] == num:\n",
    "                height[j] = height[j] + 1\n",
    "                #cur_top = \n",
    "                #top[j] = max(top[j],cur_top)\n",
    "            else:\n",
    "                height[j] = 0\n",
    "                top[j] = i + 1\n",
    "                #cur_top = i\n",
    "        #for(int j=0; j<n; j++) { // compute left (from left to right)\n",
    "        #    if(matrix[i][j]=='1') left[j]=max(left[j],cur_left);\n",
    "        #    else {left[j]=0; cur_left=j+1;}\n",
    "        #}\n",
    "        for j in range(n):\n",
    "            if bounded_box[i][j] == num:\n",
    "                left[j] = max(left[j],cur_left)\n",
    "            else:\n",
    "                left[j] = 0\n",
    "                cur_left = j + 1\n",
    "        # compute right (from right to left)\n",
    "        #for(int j=n-1; j>=0; j--) {\n",
    "        #    if(matrix[i][j]=='1') right[j]=min(right[j],cur_right);\n",
    "        #    else {right[j]=n; cur_right=j;}    \n",
    "        #}   \n",
    "        for j in range(n-1,-1,-1):\n",
    "            if bounded_box[i][j] == num:\n",
    "                right[j] = min(right[j],cur_right)\n",
    "            else:\n",
    "                right[j] = n\n",
    "                cur_right = j\n",
    "        # compute the area of rectangle (can do this from either side)\n",
    "        #for(int j=0; j<n; j++)\n",
    "        #    maxA = max(maxA,(right[j]-left[j])*height[j]);\n",
    "        for j in range(n):\n",
    "            maxA = max(maxA,(right[j]-left[j])*height[j])\n",
    "            if maxA == (right[j]-left[j])*height[j]:\n",
    "                lb1_n = left[j]\n",
    "                lb2_n = top[j]\n",
    "                lu1_n = left[j]\n",
    "                lu2_n = top[j] + height[j] - 1\n",
    "                rb1_n = right[j] - 1\n",
    "                rb2_n = top[j]\n",
    "                ru1_n = right[j] - 1\n",
    "                ru2_n = top[j] + height[j] - 1 \n",
    "    #}\n",
    "    #print id(lb1)\n",
    "    lb1 = lb1_n\n",
    "    lb2 = lb2_n\n",
    "    rb1 = rb1_n\n",
    "    rb2 = rb2_n\n",
    "    lu1 = lu1_n\n",
    "    lu2 = lu2_n\n",
    "    ru1 = ru1_n\n",
    "    ru2 = ru2_n\n",
    "    #print lb1,id(lb1)\n",
    "    return lb1,lb2,rb1,rb2,lu1,lu2,ru1,ru2\n",
    "#}\n",
    "    \n",
    "        \n",
    "def ad_hoc(length,breadth,n):\n",
    "    bounded_box = [[0 for y in range(length)] for x in range(breadth)]\n",
    "    #print(id(bounded_box))\n",
    "    i = 1\n",
    "    total_area = length*breadth\n",
    "    bounded_area = 0\n",
    "    sum_bounded_area = 0\n",
    "    #lb1_n = 0\n",
    "    #lb2_n = 0\n",
    "    #rb1_n = 0\n",
    "    #rb2_n = 0\n",
    "    #lu1_n = 0\n",
    "    #lu2_n = 0\n",
    "    #ru1_n = 0\n",
    "    #ru2_n = 0\n",
    "    while i <= n:\n",
    "        rect_tower = tower(0,length-1,0,breadth-1)\n",
    "        #pprint(vars(rect_tower))\n",
    "        prev_bound = deepcopy(bounded_box)\n",
    "        fill(rect_tower.lb1,rect_tower.lb2,rect_tower.lu1,rect_tower.lu2,rect_tower.rb1,rect_tower.rb2,rect_tower.ru1,rect_tower.ru2,bounded_box,i)\n",
    "        #tmp_box = deepcopy(bounded_box)\n",
    "        #print id(tmp_box)\n",
    "        #print id(bounded_box)\n",
    "        #print tmp_box\n",
    "        for j in bounded_box:\n",
    "            for k in j:\n",
    "                if k != i:\n",
    "                    bounded_box[bounded_box.index(j)][j.index(k)] = 0\n",
    "        #print bounded_box\n",
    "        if sum(map(sum,bounded_box)) != 0:\n",
    "            lb1_n = 0\n",
    "            lb2_n = 0\n",
    "            rb1_n = 0\n",
    "            rb2_n = 0\n",
    "            lu1_n = 0\n",
    "            lu2_n = 0\n",
    "            ru1_n = 0\n",
    "            ru2_n = 0\n",
    "            #print id(lb1_n)\n",
    "            lb1_n,lb2_n,rb1_n,rb2_n,lu1_n,lu2_n,ru1_n,ru2_n = max_rect(bounded_box,lb1_n,lb2_n,rb1_n,rb2_n,lu1_n,lu2_n,ru1_n,ru2_n,bounded_area,sum_bounded_area,i)\n",
    "            print lb1_n,lb2_n,rb1_n,rb2_n,lu1_n,lu2_n,ru1_n,ru2_n\n",
    "            fill(lb1_n,lb2_n,lu1_n,lu2_n,rb1_n,rb2_n,ru1_n,ru2_n,prev_bound,i)\n",
    "        bounded_box = deepcopy(prev_bound)\n",
    "        #print bounded_box\n",
    "        #print tmp_box\n",
    "        i = i + 1\n",
    "        #print prev_bound\n",
    "        #print bounded_box\n",
    "    return bounded_box\n"
   ]
  },
  {
   "cell_type": "code",
   "execution_count": 467,
   "metadata": {},
   "outputs": [
    {
     "name": "stdout",
     "output_type": "stream",
     "text": [
      "9 5 9 5 9 5 9 5\n",
      "5 11 7 11 5 17 7 17\n",
      "4 15 4 15 4 19 4 19\n",
      "2 11 2 11 2 15 2 15\n",
      "9 19 9 19 9 19 9 19\n"
     ]
    }
   ],
   "source": [
    "b = ad_hoc(10,20,5)"
   ]
  },
  {
   "cell_type": "code",
   "execution_count": 468,
   "metadata": {},
   "outputs": [
    {
     "data": {
      "text/plain": [
       "[[0, 0, 0, 0, 0, 0, 0, 0, 0, 0],\n",
       " [0, 0, 0, 0, 0, 0, 0, 0, 0, 0],\n",
       " [0, 0, 0, 0, 0, 0, 0, 0, 0, 0],\n",
       " [0, 0, 0, 0, 0, 0, 0, 0, 0, 0],\n",
       " [0, 0, 0, 0, 0, 0, 0, 0, 0, 0],\n",
       " [0, 0, 0, 0, 0, 0, 0, 0, 0, 1],\n",
       " [0, 0, 0, 0, 0, 0, 0, 0, 0, 0],\n",
       " [0, 0, 0, 0, 0, 0, 0, 0, 0, 0],\n",
       " [0, 0, 0, 0, 0, 0, 0, 0, 0, 0],\n",
       " [0, 0, 0, 0, 0, 0, 0, 0, 0, 0],\n",
       " [0, 0, 0, 0, 0, 0, 0, 0, 0, 0],\n",
       " [0, 0, 4, 0, 0, 2, 2, 2, 0, 0],\n",
       " [0, 0, 4, 0, 0, 2, 2, 2, 0, 0],\n",
       " [0, 0, 4, 0, 0, 2, 2, 2, 0, 0],\n",
       " [0, 0, 4, 0, 0, 2, 2, 2, 0, 0],\n",
       " [0, 0, 4, 0, 3, 2, 2, 2, 0, 0],\n",
       " [0, 0, 0, 0, 3, 2, 2, 2, 0, 0],\n",
       " [0, 0, 0, 0, 3, 2, 2, 2, 0, 0],\n",
       " [0, 0, 0, 0, 3, 0, 0, 0, 0, 0],\n",
       " [0, 0, 0, 0, 3, 0, 0, 0, 0, 5]]"
      ]
     },
     "execution_count": 468,
     "metadata": {},
     "output_type": "execute_result"
    }
   ],
   "source": [
    "b"
   ]
  },
  {
   "cell_type": "code",
   "execution_count": null,
   "metadata": {
    "collapsed": true
   },
   "outputs": [],
   "source": []
  },
  {
   "cell_type": "code",
   "execution_count": null,
   "metadata": {
    "collapsed": true
   },
   "outputs": [],
   "source": []
  },
  {
   "cell_type": "code",
   "execution_count": null,
   "metadata": {
    "collapsed": true
   },
   "outputs": [],
   "source": []
  }
 ],
 "metadata": {
  "kernelspec": {
   "display_name": "Python 2",
   "language": "python",
   "name": "python2"
  },
  "language_info": {
   "codemirror_mode": {
    "name": "ipython",
    "version": 2
   },
   "file_extension": ".py",
   "mimetype": "text/x-python",
   "name": "python",
   "nbconvert_exporter": "python",
   "pygments_lexer": "ipython2",
   "version": "2.7.14"
  }
 },
 "nbformat": 4,
 "nbformat_minor": 2
}
