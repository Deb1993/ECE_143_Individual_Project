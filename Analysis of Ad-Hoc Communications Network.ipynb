{
 "cells": [
  {
   "cell_type": "code",
   "execution_count": null,
   "metadata": {},
   "outputs": [],
   "source": []
  },
  {
   "cell_type": "code",
   "execution_count": null,
   "metadata": {},
   "outputs": [],
   "source": [
    "from pprint import pprint\n",
    "a = tower(0,10,0,20)"
   ]
  },
  {
   "cell_type": "code",
   "execution_count": null,
   "metadata": {},
   "outputs": [],
   "source": [
    "pprint(vars(a))"
   ]
  },
  {
   "cell_type": "code",
   "execution_count": null,
   "metadata": {},
   "outputs": [],
   "source": [
    "a = [[0 for y in range(8)] for x in range(8)]"
   ]
  },
  {
   "cell_type": "code",
   "execution_count": null,
   "metadata": {},
   "outputs": [],
   "source": [
    "a[0][1] = 1\n",
    "a"
   ]
  },
  {
   "cell_type": "code",
   "execution_count": 101,
   "metadata": {},
   "outputs": [],
   "source": [
    "import random\n",
    "from copy import copy,deepcopy\n",
    "import numpy as np\n",
    "import matplotlib.pyplot as plt\n",
    "#import matplotlib.patches as patches\n",
    "from matplotlib.collections import PatchCollection\n",
    "\n",
    "class tower(object):\n",
    "    '''Class: Tower\n",
    "    Param: object of type tower\n",
    "    Param: Co-ordinates of the Rectangular bounded region\n",
    "    Description: Generates random co-ordinates for a sequence of rectangles'''\n",
    "    lb1 = 0\n",
    "    lb2 = 0\n",
    "    lu1 = 0\n",
    "    lu2 = 0\n",
    "    rb1 = 0\n",
    "    rb2 = 0\n",
    "    ru1 = 0\n",
    "    ru2 = 0\n",
    "    length = 0\n",
    "    breadth = 0\n",
    "    def __init__(self,x1,x2,y1,y2):\n",
    "        self.lb1 = random.randint(x1,x2)\n",
    "        self.lb2 = random.randint(y1,y2)\n",
    "        if self.lb1 == x1 and self.lb2 == y1:\n",
    "            self.length = random.randint(1,x2)\n",
    "            self.breadth = random.randint(1,y2)\n",
    "        else:\n",
    "            self.length = random.randint(1,x2-self.lb1 + 1)\n",
    "            self.breadth = random.randint(1,y2-self.lb2 + 1)\n",
    "        self.lu1 = self.lb1\n",
    "        self.lu2 = self.lb2 + self.breadth - 1\n",
    "        self.rb1 = self.lb1 + self.length - 1\n",
    "        self.rb2 = self.lb2\n",
    "        self.ru1 = self.rb1\n",
    "        self.ru2 = self.lu2\n",
    "def fill(lb1,lb2,lu1,lu2,rb1,rb2,ru1,ru2,bounded_box,n):\n",
    "    #print(id(bounded_box))\n",
    "    i = lb2\n",
    "    j = lb1\n",
    "    #lb1_n,lb2_n,rb1_n,rb2_n,lu1_n,lu2_n,ru1_n,ru2_n\n",
    "    #8 6 10 6 8 19 10 19\n",
    "    #print bounded_box\n",
    "    while i <= lu2:\n",
    "        j = lb1\n",
    "        while j <= rb1:\n",
    "            #print j\n",
    "            #print i\n",
    "            bounded_box[i][j] = bounded_box[i][j] + n\n",
    "            j = j + 1 \n",
    "        i = i + 1\n",
    "def max_rect(bounded_box,lb1,lb2,rb1,rb2,lu1,lu2,ru1,ru2,sum_bounded_area,num):\n",
    "    #print id(lb1)\n",
    "    m = len(bounded_box)\n",
    "    #print m\n",
    "    n = len(bounded_box[0])\n",
    "    #print n\n",
    "    left_idx = [0 for i in range(n)]\n",
    "    right_idx = [n for i in range(n)]\n",
    "    height = [0 for i in range(n)]\n",
    "    top_idx = [0 for i in range(n)]\n",
    "    #print right,top\n",
    "    maxA = 0\n",
    "    for i in range(m):\n",
    "        cord_left = 0\n",
    "        cord_right = n\n",
    "        cord_top = 0\n",
    "        for j in range(n):\n",
    "            if bounded_box[i][j] == num:\n",
    "                height[j] = height[j] + 1\n",
    "            else:\n",
    "                height[j] = 0\n",
    "                top_idx[j] = i + 1\n",
    "        for j in range(n):\n",
    "            if bounded_box[i][j] == num:\n",
    "                left_idx[j] = max(left_idx[j],cord_left)\n",
    "            else:\n",
    "                left_idx[j] = 0\n",
    "                cord_left = j + 1 \n",
    "        for j in range(n-1,-1,-1):\n",
    "            if bounded_box[i][j] == num:\n",
    "                right_idx[j] = min(right_idx[j],cord_right)\n",
    "            else:\n",
    "                right_idx[j] = n\n",
    "                cord_right = j\n",
    "        for j in range(n):\n",
    "            maxA = max(maxA,(right_idx[j]-left_idx[j])*height[j])\n",
    "            if maxA == (right_idx[j]-left_idx[j])*height[j]:\n",
    "                lb1_n = left_idx[j]\n",
    "                lb2_n = top_idx[j]\n",
    "                lu1_n = left_idx[j]\n",
    "                lu2_n = top_idx[j] + height[j] - 1\n",
    "                rb1_n = right_idx[j] - 1\n",
    "                rb2_n = top_idx[j]\n",
    "                ru1_n = right_idx[j] - 1\n",
    "                ru2_n = top_idx[j] + height[j] - 1             \n",
    "    sum_bounded_area = sum_bounded_area + maxA\n",
    "    #print maxA,sum_bounded_area\n",
    "    #print id(lb1)\n",
    "    lb1 = lb1_n\n",
    "    lb2 = lb2_n\n",
    "    rb1 = rb1_n\n",
    "    rb2 = rb2_n\n",
    "    lu1 = lu1_n\n",
    "    lu2 = lu2_n\n",
    "    ru1 = ru1_n\n",
    "    ru2 = ru2_n\n",
    "    #print lb1,id(lb1)\n",
    "    return lb1,lb2,rb1,rb2,lu1,lu2,ru1,ru2,sum_bounded_area\n",
    "        \n",
    "def ad_hoc(length,breadth,n):\n",
    "    bounded_box = [[0 for y in range(length)] for x in range(breadth)]\n",
    "    figures = []\n",
    "    #print(id(bounded_box))\n",
    "    fig = plt.figure()\n",
    "    ax = fig.gca()\n",
    "    ax.set_xticks(np.arange(0, length, 1))\n",
    "    ax.set_yticks(np.arange(0, breadth, 1))\n",
    "    #ax.add_patch(patches.Rectangle((0,0),2,3,color=(random.random(),random.random(),random.random()),alpha=0.5)) # alpha is transparency\n",
    "    #ax.add_patch(patches.Rectangle((0,0),2,2,color=(random.random(),random.random(),random.random()),alpha=0.5)) # alpha is transparency\n",
    "    i = 1\n",
    "    total_area = length*breadth\n",
    "    sum_bounded_area = 0 \n",
    "    while i <= n:\n",
    "        rect_tower = tower(0,length-1,0,breadth-1)\n",
    "        #pprint(vars(rect_tower))\n",
    "        prev_bound = deepcopy(bounded_box)\n",
    "        fill(rect_tower.lb1,rect_tower.lb2,rect_tower.lu1,rect_tower.lu2,rect_tower.rb1,rect_tower.rb2,rect_tower.ru1,rect_tower.ru2,bounded_box,i)\n",
    "        #ax.add_patch(patches.Rectangle((1,1),2,2,color=(random.random(),random.random(),random.random()),alpha=0.5)) # alpha is transparency\n",
    "        #ax.add_patch(patches.Rectangle((0,0),2,3,color=(random.random(),random.random(),random.random()),alpha=0.5)) # alpha is transparency\n",
    "        figures.append(patches.Rectangle((rect_tower.lb1,rect_tower.lb2),rect_tower.rb1-rect_tower.lb1,rect_tower.lu2-rect_tower.lb1,color=(random.random(),random.random(),random.random()),alpha=0.5))\n",
    "        #tmp_box = deepcopy(bounded_box)\n",
    "        #print id(tmp_box)\n",
    "        #print id(bounded_box)\n",
    "        #print tmp_box\n",
    "        #print bounded_box\n",
    "        for j in bounded_box:\n",
    "            for k in j:\n",
    "                if k != i:\n",
    "                    bounded_box[bounded_box.index(j)][j.index(k)] = 0\n",
    "        #print bounded_box\n",
    "        if sum(map(sum,bounded_box)) != 0:\n",
    "            lb1_n = 0\n",
    "            lb2_n = 0\n",
    "            rb1_n = 0\n",
    "            rb2_n = 0\n",
    "            lu1_n = 0\n",
    "            lu2_n = 0\n",
    "            ru1_n = 0\n",
    "            ru2_n = 0\n",
    "            #print id(lb1_n)\n",
    "            lb1_n,lb2_n,rb1_n,rb2_n,lu1_n,lu2_n,ru1_n,ru2_n,sum_bounded_area = max_rect(bounded_box,lb1_n,lb2_n,rb1_n,rb2_n,lu1_n,lu2_n,ru1_n,ru2_n,sum_bounded_area,i)\n",
    "            #print lb1_n,lb2_n,rb1_n,rb2_n,lu1_n,lu2_n,ru1_n,ru2_n,sum_bounded_area\n",
    "            fill(lb1_n,lb2_n,lu1_n,lu2_n,rb1_n,rb2_n,ru1_n,ru2_n,prev_bound,i)\n",
    "        bounded_box = deepcopy(prev_bound)\n",
    "        #print bounded_box\n",
    "        #print tmp_box\n",
    "        i = i + 1\n",
    "        #print prev_bound\n",
    "        #print bounded_box\n",
    "    #print bounded_box\n",
    "    print(len(figures))\n",
    "    p = PatchCollection(figures, alpha=0.5,match_original=True)\n",
    "    ax.add_collection(p)\n",
    "    plt.grid()\n",
    "    plt.show()\n",
    "    return float(sum_bounded_area)\n"
   ]
  },
  {
   "cell_type": "code",
   "execution_count": 102,
   "metadata": {
    "scrolled": false
   },
   "outputs": [
    {
     "name": "stdout",
     "output_type": "stream",
     "text": [
      "5\n"
     ]
    },
    {
     "data": {
      "image/png": "[encoded data removed]",
      "text/plain": [
       "<matplotlib.figure.Figure at 0x11b7c24e0>"
      ]
     },
     "metadata": {},
     "output_type": "display_data"
    }
   ],
   "source": [
    "b = ad_hoc(10,20,5)"
   ]
  },
  {
   "cell_type": "code",
   "execution_count": null,
   "metadata": {},
   "outputs": [],
   "source": [
    "def find_avg(iterations):\n",
    "    b = 0\n",
    "    n = 1\n",
    "    sum = 0\n",
    "    for i in range(iterations):\n",
    "        n = 1\n",
    "        #print i\n",
    "        b = 0\n",
    "        while b != 1:\n",
    "            #print b,n\n",
    "            b = ad_hoc(10,10,n)\n",
    "            n = n + 1\n",
    "            #print n\n",
    "        #print n\n",
    "        sum = sum + n\n",
    "    return sum/iterations"
   ]
  },
  {
   "cell_type": "code",
   "execution_count": null,
   "metadata": {},
   "outputs": [],
   "source": [
    "avg = find_avg(10)"
   ]
  }
 ],
 "metadata": {
  "kernelspec": {
   "display_name": "Python 3",
   "language": "python",
   "name": "python3"
  },
  "language_info": {
   "codemirror_mode": {
    "name": "ipython",
    "version": 3
   },
   "file_extension": ".py",
   "mimetype": "text/x-python",
   "name": "python",
   "nbconvert_exporter": "python",
   "pygments_lexer": "ipython3",
   "version": "3.6.4"
  }
 },
 "nbformat": 4,
 "nbformat_minor": 2
}
