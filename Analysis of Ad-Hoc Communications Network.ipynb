{
 "cells": [
  {
   "cell_type": "markdown",
   "metadata": {},
   "source": [
    "# Analysis of Ad-Hoc Communications  Network\n",
    "This cell shows the libraries that are needed to be imported for the functions below to run. The following libraries and their use-cases are mentioned below:\n",
    "1. random - This is used to generate towers with random length and breadth.\n",
    "2. copy - This is used to copy matrices between each other to store previous matrix values.\n",
    "3. seaborn - This is used for the visualization part of the project."
   ]
  },
  {
   "cell_type": "code",
   "execution_count": 102,
   "metadata": {},
   "outputs": [],
   "source": [
    "import random\n",
    "import seaborn as sns\n",
    "from copy import copy,deepcopy"
   ]
  },
  {
   "cell_type": "markdown",
   "metadata": {},
   "source": [
    "# Tower Generation\n",
    "Package 'random' is used to generate the left bottom coordinates for each tower and its coverage. Based on the input coordinates of the total coverage area, the length and breadth of each tower coverage is generated, making sure that none of the towers cover the whole rectangular bounded region. The generation of coordinates of each tower, including its length and breadth, is taken completely at random from a uniform random distribution, using 'randint' function."
   ]
  },
  {
   "cell_type": "code",
   "execution_count": 103,
   "metadata": {},
   "outputs": [],
   "source": [
    "class tower(object):\n",
    "    '''Class: Tower\n",
    "    Param: object of type tower\n",
    "    Param: Co-ordinates of the Rectangular bounded region\n",
    "    Description: Generates random co-ordinates for a sequence of rectangles'''\n",
    "    lb1 = 0\n",
    "    lb2 = 0\n",
    "    lu1 = 0\n",
    "    lu2 = 0\n",
    "    rb1 = 0\n",
    "    rb2 = 0\n",
    "    ru1 = 0\n",
    "    ru2 = 0\n",
    "    length = 0\n",
    "    breadth = 0\n",
    "    def __init__(self,x1,x2,y1,y2):\n",
    "        self.lb1 = random.randint(x1,x2)\n",
    "        self.lb2 = random.randint(y1,y2)\n",
    "        if self.lb1 == x1 and self.lb2 == y1:\n",
    "            self.length = random.randint(1,x2)\n",
    "            self.breadth = random.randint(1,y2)\n",
    "        else:\n",
    "            self.length = random.randint(1,x2-self.lb1+1)\n",
    "            self.breadth = random.randint(1,y2-self.lb2+1)\n",
    "        self.lu1 = self.lb1\n",
    "        self.lu2 = self.lb2 + self.breadth - 1\n",
    "        self.rb1 = self.lb1 + self.length - 1\n",
    "        self.rb2 = self.lb2\n",
    "        self.ru1 = self.rb1\n",
    "        self.ru2 = self.lu2"
   ]
  },
  {
   "cell_type": "markdown",
   "metadata": {},
   "source": [
    "# Representation of the Rectangular Coverage Regions\n",
    "The total coverage area is represented in the form of a matrix. The following represents a rectangular bounded region of length = 11 and breadth = 11:\n",
    "\n",
    "[[0, 0, 0, 0, 0, 0, 0, 0, 0, 0, 0],\n",
    "\n",
    "[0, 0, 0, 0, 0, 0, 0, 0, 0, 0, 0],\n",
    "\n",
    "[0, 0, 0, 0, 0, 0, 0, 0, 0, 0, 0],\n",
    "\n",
    "[0, 0, 0, 0, 0, 0, 0, 0, 0, 0, 0],\n",
    "\n",
    "[0, 0, 0, 0, 0, 0, 0, 0, 0, 0, 0],\n",
    "\n",
    "[0, 0, 0, 0, 0, 0, 0, 0, 0, 0, 0], \n",
    "\n",
    "[0, 0, 0, 0, 0, 0, 0, 0, 0, 0, 0],\n",
    "\n",
    "[0, 0, 0, 0, 0, 0, 0, 0, 0, 0, 0],\n",
    "\n",
    "[0, 0, 0, 0, 0, 0, 0, 0, 0, 0, 0],\n",
    "\n",
    "[0, 0, 0, 0, 0, 0, 0, 0, 0, 0, 0],\n",
    "\n",
    "[0, 0, 0, 0, 0, 0, 0, 0, 0, 0, 0]]\n",
    "\n",
    "Each element in the matrix represents a coordinate. The value of each element represents which tower coverage it belongs to. The following matrix shows a tower coverage region at coordinates (4,6),(4,7),(6,6) and (6,7).\n",
    "\n",
    "[[0, 0, 0, 0, 0, 0, 0, 0, 0, 0, 0], \n",
    "\n",
    "[0, 0, 0, 0, 0, 0, 0, 0, 0, 0, 0],\n",
    "\n",
    "[0, 0, 0, 0, 0, 0, 0, 0, 0, 0, 0],\n",
    "\n",
    "[0, 0, 0, 0, 0, 0, 0, 0, 0, 0, 0], \n",
    "\n",
    "[0, 0, 0, 0, 0, 0, 1, 1, 0, 0, 0],\n",
    "\n",
    "[0, 0, 0, 0, 0, 0, 1, 1, 0, 0, 0],\n",
    "\n",
    "[0, 0, 0, 0, 0, 0, 1, 1, 0, 0, 0],\n",
    "\n",
    "[0, 0, 0, 0, 0, 0, 0, 0, 0, 0, 0],\n",
    "\n",
    "[0, 0, 0, 0, 0, 0, 0, 0, 0, 0, 0],\n",
    "\n",
    "[0, 0, 0, 0, 0, 0, 0, 0, 0, 0, 0],\n",
    "\n",
    "[0, 0, 0, 0, 0, 0, 0, 0, 0, 0, 0]]\n",
    "\n",
    "The following function does the filling up of matrix with appropriate values according to the sequence number of the tower generated. Values of '1' represent the first tower in sequence."
   ]
  },
  {
   "cell_type": "code",
   "execution_count": 104,
   "metadata": {},
   "outputs": [],
   "source": [
    "def fill(lb1,lb2,lu1,lu2,rb1,rb2,ru1,ru2,bounded_box,n):\n",
    "    '''Function: fill\n",
    "    Param: lb1:ru2 : The coordinates of the tower coverage region\n",
    "    bounded_box: the rectangular bounded matrix \n",
    "    n: sequence number of the tower\n",
    "    Description: It fills up the rectangular bounded box with values according to the tower sequence number'''\n",
    "    #print(id(bounded_box))\n",
    "    i = lb2\n",
    "    j = lb1\n",
    "    #print bounded_box\n",
    "    while i <= lu2:\n",
    "        j = lb1\n",
    "        while j <= rb1:\n",
    "            #print j\n",
    "            #print i\n",
    "            bounded_box[i][j] = bounded_box[i][j] + n\n",
    "            j = j + 1 \n",
    "        i = i + 1"
   ]
  },
  {
   "cell_type": "markdown",
   "metadata": {},
   "source": [
    "# Maximum Rectangular Area obtained after trimming\n",
    "The following algorithm finds the maximum rectangle that is not overlapping with any other rectangular coverage region. \n",
    "\n",
    "It returns coordinates of the maximum rectangle which is trimmed from the polygon that is generated by removing the overlapped portion of the current rectangle. The algorithm checks if the element is equal to the 'sequence number' and increments the height for each column in the rectangular bounded box and stores it at the index of the array corresponding to the column number. \n",
    "\n",
    "The same algorithm is used to calculate right and left indices. Now, the maximum area is calculated and stored in an iterative process and the coordinates are only stored if the area is found out to be greater than the previous obtained area."
   ]
  },
  {
   "cell_type": "code",
   "execution_count": 105,
   "metadata": {},
   "outputs": [],
   "source": [
    "def max_rect(bounded_box,lb1,lb2,rb1,rb2,lu1,lu2,ru1,ru2,sum_bounded_area,num):\n",
    "    #print id(lb1)\n",
    "    '''Function: max_rect \n",
    "    Param: sum_bounded_area: The Rectangular Bounded Area covered by the towers\n",
    "           num: Sequence Number of the tower\n",
    "    Description: Uses an iterative algorithm to calculate the maximum rectangle area among candidate rectangles'''\n",
    "    m = len(bounded_box)\n",
    "    #print m\n",
    "    n = len(bounded_box[0])\n",
    "    #print n\n",
    "    left_idx = [0 for i in range(n)]\n",
    "    right_idx = [n for i in range(n)]\n",
    "    height = [0 for i in range(n)]\n",
    "    top_idx = [0 for i in range(n)]\n",
    "    #print right,top\n",
    "    maxA = 0\n",
    "    for i in range(m):\n",
    "        cord_left = 0\n",
    "        cord_right = n\n",
    "        cord_top = 0\n",
    "        for j in range(n):\n",
    "            if bounded_box[i][j] == num:\n",
    "                height[j] = height[j] + 1 \n",
    "            else:\n",
    "                height[j] = 0\n",
    "                top_idx[j] = i + 1\n",
    "        for j in range(n):\n",
    "            if bounded_box[i][j] == num:\n",
    "                left_idx[j] = max(left_idx[j],cord_left)\n",
    "            else:\n",
    "                left_idx[j] = 0\n",
    "                cord_left = j + 1 \n",
    "        for j in range(n-1,-1,-1):\n",
    "            if bounded_box[i][j] == num:\n",
    "                right_idx[j] = min(right_idx[j],cord_right)\n",
    "            else:\n",
    "                right_idx[j] = n\n",
    "                cord_right = j\n",
    "        for j in range(n):\n",
    "            maxA = max(maxA,((right_idx[j]-left_idx[j])*height[j]))\n",
    "            if maxA == (right_idx[j]-left_idx[j])*height[j]:\n",
    "                lb1 = left_idx[j]\n",
    "                #print (lb1)\n",
    "                lb2 = top_idx[j]\n",
    "                lu1 = left_idx[j]\n",
    "                lu2 = top_idx[j] + height[j] - 1\n",
    "                rb1 = right_idx[j] - 1\n",
    "                rb2 = top_idx[j]\n",
    "                ru1 = right_idx[j] - 1\n",
    "                ru2 = top_idx[j] + height[j] - 1             \n",
    "    sum_bounded_area = sum_bounded_area + maxA\n",
    "    #print maxA,sum_bounded_area\n",
    "    #print id(lb1)\n",
    "    #print (lb1,id(lb1))\n",
    "    return lb1,lb2,rb1,rb2,lu1,lu2,ru1,ru2,sum_bounded_area"
   ]
  },
  {
   "cell_type": "markdown",
   "metadata": {},
   "source": [
    "# Main Function \n",
    "This is the main function that returns the cumulative coverage area taken up by the sequence of the towers and also the fraction of area covered by the towers relative to the total coverage area of the rectangular bounded area. This function calls all the above defined functions finally generates the final matrix with non-overlapping rectangles.\n",
    "\n",
    "The function returns a tuple containing 3 elements: The first element shows the final coverage area, the second element gives the fraction of coverage area relative to the total rectangular area, and the third element returns the final configuration of the matrix after the trim-down oeprations have been performed."
   ]
  },
  {
   "cell_type": "code",
   "execution_count": 106,
   "metadata": {},
   "outputs": [],
   "source": [
    "def ad_hoc(length,breadth,n,plot):\n",
    "    '''Function: Ad-Hoc\n",
    "    Param: length: Length of the Rectangular Region\n",
    "    breadth: Breadth of the Rectangular Region, Number of Towers\n",
    "    n: Number of Towers\n",
    "    plot : If plot == 1, then the figure will be plotted.\n",
    "    Description: This is the main function that generates the final matrix with non-overlapping rectangles and \n",
    "    also returns the cumulative coverage area of the towers and the fraction of the total area covered.'''\n",
    "    bounded_box = [[0 for y in range(length)] for x in range(breadth)]\n",
    "    draw_matrix = deepcopy(bounded_box)\n",
    "    i = 1\n",
    "    total_area = length*breadth\n",
    "    sum_bounded_area = 0\n",
    "    sum_bounded_box = 0\n",
    "    #colors = [(0,0,0)]\n",
    "    while i <= n and float(sum_bounded_area)/(length*breadth) != 1.0:\n",
    "        #print(bounded_box)\n",
    "        prev_bound = deepcopy(bounded_box)\n",
    "        #print(prev_bound)\n",
    "        while sum_bounded_box == 0:\n",
    "            bounded_box = deepcopy(prev_bound)\n",
    "            #print('Prev ',bounded_box)\n",
    "            rect_tower = tower(0,length-1,0,breadth-1)\n",
    "            fill(rect_tower.lb1,rect_tower.lb2,rect_tower.lu1,rect_tower.lu2,rect_tower.rb1,rect_tower.rb2,rect_tower.ru1,rect_tower.ru2,bounded_box,i)\n",
    "            #print(bounded_box)\n",
    "            for j in bounded_box:\n",
    "                for k in j:\n",
    "                    if k != i:\n",
    "                        bounded_box[bounded_box.index(j)][j.index(k)] = 0\n",
    "            #print(bounded_box)\n",
    "            sum_bounded_box = sum(map(sum,bounded_box))\n",
    "        #print(bounded_box)\n",
    "        #print(prev_bound)\n",
    "        if sum(map(sum,bounded_box)) != 0:\n",
    "            fill(rect_tower.lb1,rect_tower.lb2,rect_tower.lu1,rect_tower.lu2,rect_tower.rb1,rect_tower.rb2,rect_tower.ru1,rect_tower.ru2,draw_matrix,i)\n",
    "            sum_bounded_box = 0\n",
    "            lb1_n = 0\n",
    "            lb2_n = 0\n",
    "            rb1_n = 0\n",
    "            rb2_n = 0\n",
    "            lu1_n = 0\n",
    "            lu2_n = 0\n",
    "            ru1_n = 0\n",
    "            ru2_n = 0\n",
    "            #print (id(lb1_n))\n",
    "            lb1_n,lb2_n,rb1_n,rb2_n,lu1_n,lu2_n,ru1_n,ru2_n,sum_bounded_area = max_rect(bounded_box,lb1_n,lb2_n,rb1_n,rb2_n,lu1_n,lu2_n,ru1_n,ru2_n,sum_bounded_area,i)\n",
    "            #print(lb1_n,lb2_n,rb1_n,rb2_n,lu1_n,lu2_n,ru1_n,ru2_n,sum_bounded_area)\n",
    "            #figures1.append(patches.Rectangle((lb1_n,lb2_n),rb1_n-lb1_n,lu2_n-lb2_n,color=x,alpha=0.5))\n",
    "            fill(lb1_n,lb2_n,lu1_n,lu2_n,rb1_n,rb2_n,ru1_n,ru2_n,prev_bound,i)\n",
    "        bounded_box = deepcopy(prev_bound)\n",
    "        #print(bounded_box)\n",
    "        #print tmp_box\n",
    "        i = i + 1\n",
    "        #print prev_bound\n",
    "        #print bounded_box\n",
    "    #print(len(figures))\n",
    "    #p = PatchCollection(figures, alpha=0.5,match_original=True)\n",
    "    #ax.add_collection(p)\n",
    "    #p1 = PatchCollection(figures1, alpha=0.5,match_original=True)\n",
    "    #ax1.add_collection(p1)\n",
    "    #plt.grid()\n",
    "    #plt.show()\n",
    "    if plot == 1:\n",
    "        sns.set()\n",
    "        sns.heatmap(draw_matrix)\n",
    "    return float(sum_bounded_area),float(sum_bounded_area)/(length*breadth),bounded_box"
   ]
  },
  {
   "cell_type": "markdown",
   "metadata": {},
   "source": [
    "# Testing and Visualization\n",
    "The test below plots a heatmap showing a visual representation of what the algorithm returns as output. \n",
    "The First figure plots the overlapping rectangles. The Second figure plots the trimmed down rectangles and the final configuration. \n",
    "\n",
    "The numbers which correlate to each color bar represent the sequence numbers of the rectangles. For example, '1' corresponds to the first rectangle that enters, '2' corresponds to the second and so on. The overlapping regions are also represented. If the n-th tower and the (n+1)-th tower overlap, the overlapping region is represented by the color corresponding to the value 'n + (n+1)'. For example for 3 towers, if '1' and '3' overlap, the overlapping region will have a value of 4. And if '2' and '3' also overlap, the overlapping region will have a value of 5. And if all the three overlap, the overlapping region will have a value of 1+2+3 = 6, and it will be represented by a color corresponding to number 6.\n",
    "\n",
    "Also, it answers questions \n",
    "\n",
    "Note: The two cells below maybe executed multiple times to generate different combinations of towers and also the length,breadth and the number of towers maybe changed."
   ]
  },
  {
   "cell_type": "code",
   "execution_count": 107,
   "metadata": {},
   "outputs": [
    {
     "data": {
      "image/png": "[encoded data removed]",
      "text/plain": [
       "<matplotlib.figure.Figure at 0x1a16381ac8>"
      ]
     },
     "metadata": {},
     "output_type": "display_data"
    }
   ],
   "source": [
    "l = ad_hoc(10,10,5,1)"
   ]
  },
  {
   "cell_type": "code",
   "execution_count": 108,
   "metadata": {},
   "outputs": [
    {
     "name": "stdout",
     "output_type": "stream",
     "text": [
      "The Final Coverage area =  32.0\n",
      "Fraction of Coverage Area =  0.32\n"
     ]
    },
    {
     "data": {
      "image/png": "[encoded data removed]",
      "text/plain": [
       "<matplotlib.figure.Figure at 0x1a14f4d0f0>"
      ]
     },
     "metadata": {},
     "output_type": "display_data"
    }
   ],
   "source": [
    "import seaborn as sns\n",
    "sns.set()\n",
    "sns.heatmap(l[2])\n",
    "print('The Final Coverage area = ',l[0])\n",
    "print('Fraction of Coverage Area = ',l[1])"
   ]
  },
  {
   "cell_type": "markdown",
   "metadata": {},
   "source": [
    "# Function for Finding out the average number of Towers required to cover the whole region\n",
    "The function defined below finds out and returns the average number of towers required to cover a given rectangualar area."
   ]
  },
  {
   "cell_type": "code",
   "execution_count": 112,
   "metadata": {},
   "outputs": [],
   "source": [
    "def find_avg(length,breadth,iterations):\n",
    "    '''Function: find_avg\n",
    "    Param: length : The Length of the total rectangular region\n",
    "    breadth: The breadth of the total rectangular region\n",
    "    iterations: The number of iterations till which the whole program will run'''\n",
    "    b = 0\n",
    "    n = 1\n",
    "    sum = 0\n",
    "    for i in range(iterations):\n",
    "        n = 1\n",
    "        #print i\n",
    "        b = 0\n",
    "        while b != 1:\n",
    "            #print b,n\n",
    "            b = ad_hoc(length,breadth,n,0)[1]\n",
    "            n = n + 1\n",
    "            #print(n)\n",
    "            #print(b)\n",
    "        #print n \n",
    "        sum = sum + n\n",
    "    return int(sum/iterations)"
   ]
  },
  {
   "cell_type": "code",
   "execution_count": 119,
   "metadata": {},
   "outputs": [],
   "source": [
    "avg = find_avg(10,10,10)"
   ]
  },
  {
   "cell_type": "code",
   "execution_count": 120,
   "metadata": {},
   "outputs": [
    {
     "name": "stdout",
     "output_type": "stream",
     "text": [
      "The avg. numbr of communication towers required =  22\n"
     ]
    }
   ],
   "source": [
    "print('The avg. numbr of communication towers required = ',avg)"
   ]
  }
 ],
 "metadata": {
  "kernelspec": {
   "display_name": "Python 3",
   "language": "python",
   "name": "python3"
  },
  "language_info": {
   "codemirror_mode": {
    "name": "ipython",
    "version": 3
   },
   "file_extension": ".py",
   "mimetype": "text/x-python",
   "name": "python",
   "nbconvert_exporter": "python",
   "pygments_lexer": "ipython3",
   "version": "3.6.4"
  }
 },
 "nbformat": 4,
 "nbformat_minor": 2
}
